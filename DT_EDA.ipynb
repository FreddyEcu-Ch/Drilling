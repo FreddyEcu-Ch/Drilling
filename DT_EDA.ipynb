{
 "cells": [
  {
   "cell_type": "markdown",
   "metadata": {
    "pycharm": {
     "name": "#%% md\n"
    }
   },
   "source": [
    "# Directional Wells Trayectories"
   ]
  },
  {
   "cell_type": "markdown",
   "metadata": {
    "pycharm": {
     "name": "#%% md\n"
    }
   },
   "source": [
    "# Import Python Libraries"
   ]
  },
  {
   "cell_type": "code",
   "execution_count": 1,
   "metadata": {
    "pycharm": {
     "name": "#%%\n"
    }
   },
   "outputs": [],
   "source": [
    "import matplotlib.pyplot as plt\n",
    "from bs4 import BeautifulSoup\n",
    "import pandas as pd\n",
    "import plotly.express as px\n",
    "import seaborn as sns\n",
    "import warnings\n",
    "warnings.filterwarnings('ignore')"
   ]
  },
  {
   "cell_type": "markdown",
   "source": [
    "# Import Data"
   ],
   "metadata": {
    "collapsed": false,
    "pycharm": {
     "name": "#%% md\n"
    }
   }
  },
  {
   "cell_type": "code",
   "execution_count": null,
   "outputs": [],
   "source": [
    "well_file = \"Data/input/F-15/1.xml\"\n",
    "\n",
    "with open(well_file) as file:\n",
    "    data = file.read()"
   ],
   "metadata": {
    "collapsed": false,
    "pycharm": {
     "name": "#%%\n"
    }
   }
  },
  {
   "cell_type": "markdown",
   "source": [
    "# Data Processing"
   ],
   "metadata": {
    "collapsed": false,
    "pycharm": {
     "name": "#%% md\n"
    }
   }
  },
  {
   "cell_type": "code",
   "execution_count": null,
   "outputs": [],
   "source": [
    "data_xml = BeautifulSoup(data, 'html.parser')\n",
    "params = set([str(tag.name) for tag in data_xml.find_all()])\n",
    "params"
   ],
   "metadata": {
    "collapsed": false,
    "pycharm": {
     "name": "#%%\n"
    }
   }
  },
  {
   "cell_type": "code",
   "execution_count": null,
   "outputs": [],
   "source": [
    "params = []\n",
    "for tag in data_xml.find_all():\n",
    "    params.append(str(tag.name))"
   ],
   "metadata": {
    "collapsed": false,
    "pycharm": {
     "name": "#%%\n"
    }
   }
  },
  {
   "cell_type": "code",
   "execution_count": null,
   "outputs": [],
   "source": [
    "params = set(params)\n",
    "params"
   ],
   "metadata": {
    "collapsed": false,
    "pycharm": {
     "name": "#%%\n"
    }
   }
  },
  {
   "cell_type": "code",
   "execution_count": null,
   "outputs": [],
   "source": [
    "incl = data_xml.find_all('incl')\n",
    "float(incl[-1].text)"
   ],
   "metadata": {
    "collapsed": false,
    "pycharm": {
     "name": "#%%\n"
    }
   }
  },
  {
   "cell_type": "code",
   "execution_count": null,
   "outputs": [],
   "source": [
    "columns = ['azi', 'incl', 'md', 'tvd', 'dispns', 'dispew']\n",
    "df = pd.DataFrame()\n",
    "for col in columns:\n",
    "    df[col] = [float(x.text) for x in data_xml.find_all(col)]       "
   ],
   "metadata": {
    "collapsed": false,
    "pycharm": {
     "name": "#%%\n"
    }
   }
  },
  {
   "cell_type": "code",
   "execution_count": null,
   "outputs": [],
   "source": [
    "df"
   ],
   "metadata": {
    "collapsed": false,
    "pycharm": {
     "name": "#%%\n"
    }
   }
  },
  {
   "cell_type": "code",
   "execution_count": null,
   "outputs": [],
   "source": [
    "wells = ['F-1 C',\n",
    "        'F-4',\n",
    "        'F-5',\n",
    "        'F-7',\n",
    "        'F-9',\n",
    "        'F-11',\n",
    "        'F-12',\n",
    "        'F-14',\n",
    "        'F-15']\n",
    "\n",
    "prefix = 'Data/input/'\n",
    "suffix = '/1.xml'\n",
    "\n",
    "df_all_wells = pd.DataFrame()\n",
    "for well in wells:\n",
    "    df = pd.DataFrame()\n",
    "    well_file = prefix + well + suffix\n",
    "    with open(well_file) as f:\n",
    "        data = f.read()\n",
    "    data_xml = BeautifulSoup(data, 'html.parser')\n",
    "    for col in columns:\n",
    "        df[col] = [float(x.text) for x in data_xml.find_all(col)]\n",
    "    df['Well'] = well\n",
    "    df_all_wells = pd.concat([df_all_wells, df], ignore_index=True)"
   ],
   "metadata": {
    "collapsed": false,
    "pycharm": {
     "name": "#%%\n"
    }
   }
  },
  {
   "cell_type": "code",
   "execution_count": null,
   "outputs": [],
   "source": [
    "df_all_wells.head()"
   ],
   "metadata": {
    "collapsed": false,
    "pycharm": {
     "name": "#%%\n"
    }
   }
  },
  {
   "cell_type": "code",
   "execution_count": null,
   "outputs": [],
   "source": [
    "df_all_wells['Well'].unique()"
   ],
   "metadata": {
    "collapsed": false,
    "pycharm": {
     "name": "#%%\n"
    }
   }
  },
  {
   "cell_type": "code",
   "execution_count": null,
   "outputs": [],
   "source": [
    "df_all_wells.loc[df_all_wells['Well'] == 'F-12', ['azi', 'incl', 'Well']]"
   ],
   "metadata": {
    "collapsed": false,
    "pycharm": {
     "name": "#%%\n"
    }
   }
  },
  {
   "cell_type": "code",
   "execution_count": null,
   "outputs": [],
   "source": [
    "df_all_wells.groupby('Well')['tvd'].mean()"
   ],
   "metadata": {
    "collapsed": false,
    "pycharm": {
     "name": "#%%\n"
    }
   }
  },
  {
   "cell_type": "code",
   "execution_count": null,
   "outputs": [],
   "source": [
    "df_all_wells['tvd-'] = df_all_wells['tvd'] * -1\n",
    "df_all_wells"
   ],
   "metadata": {
    "collapsed": false,
    "pycharm": {
     "name": "#%%\n"
    }
   }
  },
  {
   "cell_type": "markdown",
   "source": [
    "# Plot 3D Wells Trajectories"
   ],
   "metadata": {
    "collapsed": false,
    "pycharm": {
     "name": "#%% md\n"
    }
   }
  },
  {
   "cell_type": "code",
   "execution_count": null,
   "outputs": [],
   "source": [
    "fig = px.line_3d(df_all_wells, 'dispns', 'dispew', 'tvd-', 'Well')\n",
    "fig.show()"
   ],
   "metadata": {
    "collapsed": false,
    "pycharm": {
     "name": "#%%\n"
    }
   }
  },
  {
   "cell_type": "markdown",
   "source": [
    "# Clean data (Output)\n",
    "\n",
    "In this step, data of each well is converted into csv files."
   ],
   "metadata": {
    "collapsed": false,
    "pycharm": {
     "name": "#%% md\n"
    }
   }
  },
  {
   "cell_type": "code",
   "execution_count": null,
   "outputs": [],
   "source": [
    "#prefix = 'Data/output/'\n",
    "#wells = ['F-1 C',\n",
    "#        'F-4',\n",
    "#        'F-5',\n",
    "#        'F-7',\n",
    "#        'F-9',\n",
    "#        'F-11',\n",
    "#        'F-12',\n",
    "#        'F-14',\n",
    "#        'F-15']\n",
    "#suffix = '.csv'\n",
    "#\n",
    "#for well in wells:\n",
    "#    df = df_all_wells[df_all_wells['Well'] == well]\n",
    "#    df.to_csv(prefix + well + suffix, index=False)"
   ],
   "metadata": {
    "collapsed": false,
    "pycharm": {
     "name": "#%%\n"
    }
   }
  },
  {
   "cell_type": "markdown",
   "source": [
    "# Plot well F-14"
   ],
   "metadata": {
    "collapsed": false,
    "pycharm": {
     "name": "#%% md\n"
    }
   }
  },
  {
   "cell_type": "code",
   "execution_count": null,
   "outputs": [],
   "source": [
    "df_F14 = pd.read_csv('Data/output/F-14.csv')\n",
    "df_F14"
   ],
   "metadata": {
    "collapsed": false,
    "pycharm": {
     "name": "#%%\n"
    }
   }
  },
  {
   "cell_type": "code",
   "execution_count": null,
   "outputs": [],
   "source": [
    "fig_F14 = px.line_3d(df_F14, 'dispns', 'dispew', 'neg_tvd')\n",
    "fig_F14"
   ],
   "metadata": {
    "collapsed": false,
    "pycharm": {
     "name": "#%%\n"
    }
   }
  },
  {
   "cell_type": "markdown",
   "source": [
    "# EDA (Exploratory Data Analysis)"
   ],
   "metadata": {
    "collapsed": false,
    "pycharm": {
     "name": "#%% md\n"
    }
   }
  },
  {
   "cell_type": "code",
   "execution_count": null,
   "outputs": [],
   "source": [
    "corr = df_all_wells.corr()\n",
    "\n",
    "fig, ax1 = plt.subplots(figsize=(20,8))\n",
    "sns.heatmap(data=corr, cmap='RdYlGn', annot=True, linewidths=0.01, linecolor='black', square=True, ax=ax1)\n",
    "fig.show()"
   ],
   "metadata": {
    "collapsed": false,
    "pycharm": {
     "name": "#%%\n"
    }
   }
  },
  {
   "cell_type": "markdown",
   "source": [
    "## Plots for Categorical Variables"
   ],
   "metadata": {
    "collapsed": false,
    "pycharm": {
     "name": "#%% md\n"
    }
   }
  },
  {
   "cell_type": "code",
   "execution_count": null,
   "outputs": [],
   "source": [
    "fig_1, ax = plt.subplots(figsize=(10, 6))\n",
    "sns.boxplot(data=df_all_wells, x='Well', y='md', ax=ax)\n",
    "plt.xticks(rotation = 45)\n",
    "fig_1.show()"
   ],
   "metadata": {
    "collapsed": false,
    "pycharm": {
     "name": "#%%\n"
    }
   }
  },
  {
   "cell_type": "code",
   "execution_count": null,
   "outputs": [],
   "source": [
    "columns = ['azi', 'incl', 'md', 'tvd', 'dispns', 'dispew']\n",
    "fig_2, axes = plt.subplots(len(columns), 1, figsize=(8,20))\n",
    "\n",
    "for col, axes in zip(columns, axes):\n",
    "    sns.boxplot(data=df_all_wells, x='Well', y=col, ax=axes)\n",
    "    plt.tight_layout()"
   ],
   "metadata": {
    "collapsed": false,
    "pycharm": {
     "name": "#%%\n"
    }
   }
  },
  {
   "cell_type": "code",
   "execution_count": null,
   "outputs": [],
   "source": [
    "fig_1, ax = plt.subplots(figsize=(10, 6))\n",
    "sns.boxplot(data=df_all_wells, x='Well', y='md', ax=ax)\n",
    "plt.xticks(rotation = 45)\n",
    "fig_1.show()"
   ],
   "metadata": {
    "collapsed": false,
    "pycharm": {
     "name": "#%%\n"
    }
   }
  },
  {
   "cell_type": "code",
   "execution_count": null,
   "outputs": [],
   "source": [
    "columns = ['azi', 'incl', 'md', 'tvd', 'dispns', 'dispew']\n",
    "fig_2, axes = plt.subplots(len(columns), 1, figsize=(8,20))\n",
    "\n",
    "for col, axes in zip(columns, axes):\n",
    "    sns.boxplot(data=df_all_wells, x='Well', y=col, ax=axes)\n",
    "    plt.tight_layout()"
   ],
   "metadata": {
    "collapsed": false,
    "pycharm": {
     "name": "#%%\n"
    }
   }
  },
  {
   "cell_type": "code",
   "execution_count": 38,
   "metadata": {
    "pycharm": {
     "name": "#%%\n"
    }
   },
   "outputs": [
    {
     "data": {
      "text/plain": "<Figure size 720x432 with 1 Axes>",
      "image/png": "[encoded data removed]"
     },
     "metadata": {
      "needs_background": "light"
     },
     "output_type": "display_data"
    }
   ],
   "source": [
    "fig_1, ax = plt.subplots(figsize=(10, 6))\n",
    "sns.boxplot(data=df_all_wells, x='Well', y='md', ax=ax)\n",
    "plt.xticks(rotation = 45)\n",
    "fig_1.show()"
   ]
  },
  {
   "cell_type": "code",
   "execution_count": 39,
   "outputs": [
    {
     "data": {
      "text/plain": "<Figure size 576x1440 with 6 Axes>",
      "image/png": "[encoded data removed]"
     },
     "metadata": {
      "needs_background": "light"
     },
     "output_type": "display_data"
    }
   ],
   "source": [
    "columns = ['azi', 'incl', 'md', 'tvd', 'dispns', 'dispew']\n",
    "fig_2, axes = plt.subplots(len(columns), 1, figsize=(8,20))\n",
    "\n",
    "for col, axes in zip(columns, axes):\n",
    "    sns.boxplot(data=df_all_wells, x='Well', y=col, ax=axes)\n",
    "    plt.tight_layout()"
   ],
   "metadata": {
    "collapsed": false,
    "pycharm": {
     "name": "#%%\n"
    }
   }
  }
 ],
 "metadata": {
  "kernelspec": {
   "display_name": "Python 3 (ipykernel)",
   "language": "python",
   "name": "python3"
  },
  "language_info": {
   "codemirror_mode": {
    "name": "ipython",
    "version": 3
   },
   "file_extension": ".py",
   "mimetype": "text/x-python",
   "name": "python",
   "nbconvert_exporter": "python",
   "pygments_lexer": "ipython3",
   "version": "3.9.13"
  }
 },
 "nbformat": 4,
 "nbformat_minor": 4
}