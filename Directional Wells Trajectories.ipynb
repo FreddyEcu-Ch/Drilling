{
 "cells": [
  {
   "cell_type": "markdown",
   "metadata": {
    "pycharm": {
     "name": "#%% md\n"
    }
   },
   "source": [
    "#                                            DIRECTIONAL DRILLING \n",
    "##                                           *DIRECTIONAL WELLS PROFILES*"
   ]
  },
  {
   "cell_type": "markdown",
   "metadata": {
    "pycharm": {
     "name": "#%% md\n"
    }
   },
   "source": [
    "***"
   ]
  },
  {
   "cell_type": "markdown",
   "metadata": {
    "pycharm": {
     "name": "#%% md\n"
    }
   },
   "source": [
    "<img src=\"resources/Well_prof.jpg\" width=800 height=800 />"
   ]
  },
  {
   "cell_type": "markdown",
   "metadata": {
    "pycharm": {
     "name": "#%% md\n"
    }
   },
   "source": [
    "# Python Libraries"
   ]
  },
  {
   "cell_type": "code",
   "execution_count": 14,
   "metadata": {
    "pycharm": {
     "name": "#%%\n"
    }
   },
   "outputs": [],
   "source": [
    "from collections import namedtuple\n",
    "from math import radians, isclose, acos, asin, cos, sin, tan, atan, degrees, sqrt"
   ]
  },
  {
   "cell_type": "markdown",
   "metadata": {
    "pycharm": {
     "name": "#%% md\n"
    }
   },
   "source": [
    "# *Directional Wells Profiles*"
   ]
  },
  {
   "cell_type": "markdown",
   "metadata": {
    "pycharm": {
     "name": "#%% md\n"
    }
   },
   "source": [
    "## *Slant Well Profile (J Type)*"
   ]
  },
  {
   "cell_type": "markdown",
   "metadata": {
    "pycharm": {
     "name": "#%% md\n"
    }
   },
   "source": [
    "<img src=\"resources/j_prof.png\" width=500 height=500 align='center' />"
   ]
  },
  {
   "cell_type": "code",
   "execution_count": 15,
   "metadata": {
    "pycharm": {
     "name": "#%%\n"
    }
   },
   "outputs": [],
   "source": [
    "Data = namedtuple(\"Input\", \"TVD KOP BUR DH\")\n",
    "Output = namedtuple(\"Output\", \"R Theta TVD_EOB Md_EOB Dh_EOB Tan_len Md_total\")\n",
    "\n",
    "def well_J(data:Data, unit='ingles') -> Output:\n",
    "    # Call input values\n",
    "    tvd = data.TVD\n",
    "    kop = data.KOP\n",
    "    bur = data.BUR\n",
    "    dh = data.DH\n",
    "    if unit == 'ingles':\n",
    "        R = 5729.58 / bur\n",
    "    else:\n",
    "        R = 1718.87 / bur\n",
    "    if dh > R:\n",
    "        dc = dh - R\n",
    "    elif dh < R:\n",
    "        dc = R - dh\n",
    "    do = tvd - kop\n",
    "    doc = degrees(atan(dc / do))\n",
    "    oc = sqrt(dc**2 + do**2)\n",
    "    boc = degrees(acos(R / oc))\n",
    "    if R < dh:\n",
    "        bod = boc - doc\n",
    "    elif R > dh:\n",
    "        bod = boc + doc\n",
    "    theta = 90 - bod\n",
    "    tvd_eob = kop + abs(R * sin(radians(theta)))\n",
    "    if unit == 'ingles':\n",
    "        md_eob = kop + (theta / bur) * 100\n",
    "    else:\n",
    "        md_eob = kop + (theta / bur) * 30\n",
    "    dh_eob = R - R * cos(radians(theta))\n",
    "    tan_len = sqrt(oc**2 - R**2)\n",
    "    if unit == 'ingles':\n",
    "        md_total = kop + (theta / bur) * 100 + tan_len\n",
    "    else:\n",
    "        md_total = kop + (theta / bur) * 30 + tan_len\n",
    "    return Output(R=R, Theta=theta, TVD_EOB=tvd_eob, Md_EOB=md_eob, Dh_EOB=dh_eob, \\\n",
    "                  Tan_len=tan_len, Md_total=md_total)"
   ]
  },
  {
   "cell_type": "markdown",
   "metadata": {
    "pycharm": {
     "name": "#%% md\n"
    }
   },
   "source": [
    "## *Ejercicio 1*"
   ]
  },
  {
   "cell_type": "code",
   "execution_count": 16,
   "metadata": {
    "pycharm": {
     "name": "#%%\n"
    }
   },
   "outputs": [],
   "source": [
    "# data\n",
    "tvd = 8000 #ft\n",
    "kop = 500 #ft\n",
    "bur = 2 #o/100ft\n",
    "dh = 970.8 #ft"
   ]
  },
  {
   "cell_type": "code",
   "execution_count": 17,
   "metadata": {
    "pycharm": {
     "name": "#%%\n"
    }
   },
   "outputs": [],
   "source": [
    "trajectory_J = well_J(Data(tvd, kop, bur, dh))"
   ]
  },
  {
   "cell_type": "code",
   "execution_count": 18,
   "metadata": {
    "pycharm": {
     "name": "#%%\n"
    }
   },
   "outputs": [
    {
     "data": {
      "text/plain": "Output(R=2864.79, Theta=7.564230623470863, TVD_EOB=877.1139517978513, Md_EOB=878.2115311735431, Dh_EOB=24.929649303260703, Tan_len=7185.414140882904, Md_total=8063.625672056447)"
     },
     "execution_count": 18,
     "metadata": {},
     "output_type": "execute_result"
    }
   ],
   "source": [
    "trajectory_J"
   ]
  },
  {
   "cell_type": "code",
   "execution_count": 19,
   "metadata": {
    "pycharm": {
     "name": "#%%\n"
    }
   },
   "outputs": [
    {
     "name": "stdout",
     "output_type": "stream",
     "text": [
      "R -> 2864.790 ft\n",
      "theta -> 7.564 degrees\n",
      "tvd_EOB -> 877.114 ft\n",
      "MD_EOB -> 878.212 ft\n",
      "DH_EOB -> 24.930 ft\n",
      "Length_tan -> 7185.414 ft\n",
      "MD_Total -> 8063.626 ft\n"
     ]
    }
   ],
   "source": [
    "names = ['R', 'theta', 'tvd_EOB', 'MD_EOB', 'DH_EOB', 'Length_tan', 'MD_Total']\n",
    "for param , value in zip(names, trajectory_J):\n",
    "    if param == 'theta':\n",
    "        print(f\"{param} -> {value:.3f} degrees\")\n",
    "    else:\n",
    "        print(f\"{param} -> {value:.3f} ft\")"
   ]
  },
  {
   "cell_type": "markdown",
   "metadata": {
    "pycharm": {
     "name": "#%% md\n"
    }
   },
   "source": [
    "## *S-Type Well Profile*"
   ]
  },
  {
   "cell_type": "markdown",
   "metadata": {
    "pycharm": {
     "name": "#%% md\n"
    }
   },
   "source": [
    "<img src=\"resources/s_prof.png\" width=500 height=400 />"
   ]
  },
  {
   "cell_type": "code",
   "execution_count": 20,
   "metadata": {
    "pycharm": {
     "name": "#%%\n"
    }
   },
   "outputs": [],
   "source": [
    "# Function to calculate parameters from# Function to calculate parameters from a Horizontal well\n",
    "Data = namedtuple(\"Input\", \"TVD KOP BUR DOR DH\")\n",
    "Output = namedtuple(\"Output\", \"R1 R2 Theta TVD_EOB Md_EOB Dh_EOB Lengh_tan Md_SOD TVD_SOD Dh_SOD Md_total\")\n",
    "\n",
    "def well_S(data:Data, unit='ingles') -> Output:\n",
    "    # Call input values\n",
    "    tvd = data.TVD\n",
    "    kop = data.KOP\n",
    "    bur = data.BUR\n",
    "    dor = data.DOR\n",
    "    dh = data.DH\n",
    "    if unit == 'ingles':\n",
    "        R1 = 5729.58 / bur\n",
    "    else:\n",
    "        R1 = 1718.87 / bur\n",
    "    if unit == 'ingles':\n",
    "        R2 = 5729.58 / dor\n",
    "    else:\n",
    "        R2 = 1718.87 / dor\n",
    "    if dh > (R1+R2):\n",
    "        fe = dh - (R1+R2)\n",
    "    elif dh < (R1+R2):\n",
    "        fe = (R1+R2) - dh\n",
    "    eo = tvd - kop\n",
    "    foe = degrees(atan(fe / eo))\n",
    "    of = sqrt(fe**2 + eo**2)\n",
    "    fg= R1 + R2\n",
    "    fog=degrees(asin(fg / of))\n",
    "    eog = fog - foe\n",
    "    tvd_eob = kop + (R1 * sin(radians(eog)))\n",
    "    md_eob = kop + ((eog / bur) * 100)\n",
    "    d1 = R1 - R1 * cos(radians(eog))\n",
    "    bc = sqrt(of**2 - fg**2)\n",
    "    sod_md = kop + ((eog / bur) *100) + bc\n",
    "    sod_tvd = tvd_eob + (bc * cos(radians(eog)))\n",
    "    d2 = d1 + (bc * sin(radians(eog)))\n",
    "    md = kop + (((eog / bur) * 100) + bc) + ((eog / dor) * 100)\n",
    "\n",
    "\n",
    "\n",
    "\n",
    "    return Output(R1=R1, R2=R2, Theta=eog, TVD_EOB=tvd_eob, Md_EOB=md_eob, Dh_EOB=d1,\n",
    "                  Lengh_tan= bc, Md_SOD=sod_md, TVD_SOD= sod_tvd, Dh_SOD= d2, Md_total=md)"
   ]
  },
  {
   "cell_type": "markdown",
   "metadata": {
    "pycharm": {
     "name": "#%% md\n"
    }
   },
   "source": [
    "# *Ejercicio 2*"
   ]
  },
  {
   "cell_type": "code",
   "execution_count": 21,
   "metadata": {
    "pycharm": {
     "name": "#%%\n"
    }
   },
   "outputs": [],
   "source": [
    "# Data\n",
    "kop = 6084 #ft\n",
    "tvd = 12000 #ft\n",
    "bur = 3 #o/100ft\n",
    "dor = 2 #o/ft\n",
    "dh = 3500 #ft"
   ]
  },
  {
   "cell_type": "code",
   "execution_count": 22,
   "outputs": [],
   "source": [
    "TALLER = well_S(Data(tvd, kop,  bur, dor, dh))"
   ],
   "metadata": {
    "collapsed": false,
    "pycharm": {
     "name": "#%%\n"
    }
   }
  },
  {
   "cell_type": "code",
   "execution_count": 23,
   "outputs": [
    {
     "data": {
      "text/plain": "Output(R1=1909.86, R2=2864.79, Theta=39.93029740693158, TVD_EOB=7309.853592805263, Md_EOB=7415.009913564386, Dh_EOB=445.32997688458863, Lengh_tan=3718.401000430159, Md_SOD=11133.410913994545, TVD_SOD=10161.219610792105, Dh_SOD=2832.0050346731164, Md_total=13129.925784341123)"
     },
     "execution_count": 23,
     "metadata": {},
     "output_type": "execute_result"
    }
   ],
   "source": [
    "TALLER"
   ],
   "metadata": {
    "collapsed": false,
    "pycharm": {
     "name": "#%%\n"
    }
   }
  },
  {
   "cell_type": "code",
   "execution_count": 24,
   "outputs": [
    {
     "name": "stdout",
     "output_type": "stream",
     "text": [
      "R1 -> 1909.860 ft\n",
      "R2 -> 2864.790 ft\n",
      "Theta -> 39.930 degrees\n",
      "TVD_EOB -> 7309.854 ft\n",
      "Md_EOB -> 7415.010 ft\n",
      "Dh_EOB -> 445.330 ft\n",
      "Lengh_tan -> 3718.401 ft\n",
      "Md_SOD -> 11133.411 ft\n",
      "TVD_SOD -> 10161.220 ft\n",
      "Dh_SOD -> 2832.005 ft\n",
      "Md_total -> 13129.926 ft\n"
     ]
    }
   ],
   "source": [
    "namesS = [\"R1\", \"R2\", \"Theta\", \"TVD_EOB\", \"Md_EOB\", \"Dh_EOB\", \"Lengh_tan\", \"Md_SOD\", \"TVD_SOD\", \"Dh_SOD\", \"Md_total\"]\n",
    "for params , values in zip(namesS, TALLER):\n",
    "    if params == \"Theta\":\n",
    "        print(f\"{params} -> {values:.3f} degrees\")\n",
    "    else:\n",
    "        print(f\"{params} -> {values:.3f} ft\")\n"
   ],
   "metadata": {
    "collapsed": false,
    "pycharm": {
     "name": "#%%\n"
    }
   }
  },
  {
   "cell_type": "markdown",
   "metadata": {
    "pycharm": {
     "name": "#%% md\n"
    }
   },
   "source": [
    "## *Horizontal Well Profiles*"
   ]
  },
  {
   "cell_type": "markdown",
   "metadata": {
    "pycharm": {
     "name": "#%% md\n"
    }
   },
   "source": [
    "<img src=\"resources/Horizontal_prof.jpg\" width=500 height=500 />"
   ]
  },
  {
   "cell_type": "code",
   "execution_count": 25,
   "metadata": {
    "pycharm": {
     "name": "#%%\n"
    }
   },
   "outputs": [],
   "source": [
    "# Function to calculate parameters from a Horizontal well"
   ]
  },
  {
   "cell_type": "markdown",
   "metadata": {
    "pycharm": {
     "name": "#%% md\n"
    }
   },
   "source": [
    "# *Ejercicio 3*"
   ]
  },
  {
   "cell_type": "code",
   "execution_count": 26,
   "metadata": {
    "pycharm": {
     "name": "#%%\n"
    }
   },
   "outputs": [],
   "source": [
    "# Data\n",
    "tvd = 3800 #ft\n",
    "kop = 2000 #ft\n",
    "bur1 = 5.73 #o/100ft\n",
    "bur2 = 9.55 #o/100ft\n",
    "dh = 1800 #ft"
   ]
  }
 ],
 "metadata": {
  "kernelspec": {
   "display_name": "Python 3 (ipykernel)",
   "language": "python",
   "name": "python3"
  },
  "language_info": {
   "codemirror_mode": {
    "name": "ipython",
    "version": 3
   },
   "file_extension": ".py",
   "mimetype": "text/x-python",
   "name": "python",
   "nbconvert_exporter": "python",
   "pygments_lexer": "ipython3",
   "version": "3.9.13"
  }
 },
 "nbformat": 4,
 "nbformat_minor": 4
}